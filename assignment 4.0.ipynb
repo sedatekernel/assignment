{
 "cells": [
  {
   "cell_type": "code",
   "execution_count": 2,
   "id": "379eb830",
   "metadata": {},
   "outputs": [
    {
     "name": "stdout",
     "output_type": "stream",
     "text": [
      "enter your name: md sohan hossain\n",
      "enter your first number: 100\n",
      "enter your second number: 50\n",
      "enter your third number: 10\n",
      "\n",
      " your name is: md sohan hossain \n",
      " your first number is: 100.0 \n",
      " your second numder is: 50.0 \n",
      " your third number is: 10.0 \n",
      " \n",
      " hay sohan your result is Addition(+): 160.0 \n",
      " hay sohan your result is Subtraction(-): 40.0 \n",
      " hay sohan your result is Multiplication(*): 50000.0 \n",
      " hay sohan your result is Division(/): 0.2 \n"
     ]
    }
   ],
   "source": [
    "name = input(\"enter your name: \")\n",
    "num1 = float(input(\"enter your first number: \"))\n",
    "num2 = float(input(\"enter your second number: \"))\n",
    "num3 = float(input(\"enter your third number: \"))\n",
    "\n",
    "print(f\"\\n your name is: {name} \\n your first number is: {num1} \\n your second numder is: {num2} \\n your third number is: {num3} \\n \\n hay sohan your result is Addition(+): {num1+num2+num3} \\n hay sohan your result is Subtraction(-): {num1-num2-num3} \\n hay sohan your result is Multiplication(*): {num1*num2*num3} \\n hay sohan your result is Division(/): {num1/num2/num3} \")"
   ]
  },
  {
   "cell_type": "code",
   "execution_count": null,
   "id": "299e4cce",
   "metadata": {},
   "outputs": [],
   "source": []
  }
 ],
 "metadata": {
  "kernelspec": {
   "display_name": "Python 3 (ipykernel)",
   "language": "python",
   "name": "python3"
  },
  "language_info": {
   "codemirror_mode": {
    "name": "ipython",
    "version": 3
   },
   "file_extension": ".py",
   "mimetype": "text/x-python",
   "name": "python",
   "nbconvert_exporter": "python",
   "pygments_lexer": "ipython3",
   "version": "3.11.5"
  }
 },
 "nbformat": 4,
 "nbformat_minor": 5
}
