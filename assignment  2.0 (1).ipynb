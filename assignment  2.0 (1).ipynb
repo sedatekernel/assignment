{
 "cells": [
  {
   "cell_type": "code",
   "execution_count": 1,
   "id": "79d1327d",
   "metadata": {},
   "outputs": [],
   "source": [
    "a = 10\n",
    "b = 20"
   ]
  },
  {
   "cell_type": "code",
   "execution_count": 2,
   "id": "f370098e",
   "metadata": {},
   "outputs": [
    {
     "name": "stdout",
     "output_type": "stream",
     "text": [
      "30\n"
     ]
    }
   ],
   "source": [
    "print (a+b)"
   ]
  },
  {
   "cell_type": "code",
   "execution_count": 7,
   "id": "79bed5d7",
   "metadata": {},
   "outputs": [
    {
     "name": "stdout",
     "output_type": "stream",
     "text": [
      "please enter a number: 10\n",
      "please enter another number: 20\n",
      "please enter a another number: 30\n",
      "sum =  60\n"
     ]
    }
   ],
   "source": [
    "c = int(input(\"please enter a number: \"))\n",
    "d = int(input(\"please enter another number: \"))\n",
    "e = int(input(\"please enter a another number: \"))\n",
    "f = print(\"sum = \",c+d+e)"
   ]
  },
  {
   "cell_type": "code",
   "execution_count": 6,
   "id": "723f5f89",
   "metadata": {},
   "outputs": [
    {
     "name": "stdout",
     "output_type": "stream",
     "text": [
      "60\n"
     ]
    }
   ],
   "source": [
    "g = print (c+d+e)"
   ]
  },
  {
   "cell_type": "code",
   "execution_count": 8,
   "id": "0f6078d4",
   "metadata": {},
   "outputs": [
    {
     "name": "stdout",
     "output_type": "stream",
     "text": [
      "sum =  60\n"
     ]
    }
   ],
   "source": [
    "h = print(\"sum = \",c+d+e)"
   ]
  },
  {
   "cell_type": "code",
   "execution_count": 10,
   "id": "c2e3abae",
   "metadata": {},
   "outputs": [
    {
     "name": "stdout",
     "output_type": "stream",
     "text": [
      "your 1st number is 10, your 2nd number is 20, your 3rd number is 30 and sum = 60\n"
     ]
    }
   ],
   "source": [
    "j = print(f\"your 1st number is {c}, your 2nd number is {d}, your 3rd number is {e} and sum = {c+d+e}\")"
   ]
  },
  {
   "cell_type": "code",
   "execution_count": 11,
   "id": "7a1d70ff",
   "metadata": {},
   "outputs": [
    {
     "name": "stdout",
     "output_type": "stream",
     "text": [
      "please enter a number: 20\n",
      "please enter a another number: 5.5\n",
      "your 1st number is 20.0, your 2nd number is 5.5 and Difference = 14.5\n"
     ]
    }
   ],
   "source": [
    "k = float(input(\"please enter a number: \"))\n",
    "l = float(input(\"please enter a another number: \"))\n",
    "m = print(f\"your 1st number is {k}, your 2nd number is {l} and Difference = {k-l}\")"
   ]
  },
  {
   "cell_type": "code",
   "execution_count": 12,
   "id": "310bd729",
   "metadata": {},
   "outputs": [
    {
     "name": "stdout",
     "output_type": "stream",
     "text": [
      "please enter a number: 10\n",
      "please enter another number: 5\n",
      "your 1st number is 10, your 2nd number is 5 and Product = 50\n"
     ]
    }
   ],
   "source": [
    "n = int(input(\"please enter a number: \"))\n",
    "o = int(input(\"please enter another number: \"))\n",
    "p = print(f\"your 1st number is {n}, your 2nd number is {o} and Product = {n*o}\")"
   ]
  },
  {
   "cell_type": "code",
   "execution_count": 13,
   "id": "a5c84dfd",
   "metadata": {},
   "outputs": [
    {
     "name": "stdout",
     "output_type": "stream",
     "text": [
      "please enter a number: 50\n",
      "please enter another number: 5\n",
      "your 1st number is 50, your 2nd number is 5 and Division = 10.0\n"
     ]
    }
   ],
   "source": [
    "q = int(input(\"please enter a number: \"))\n",
    "r = int(input(\"please enter another number: \"))\n",
    "s = print(f\"your 1st number is {q}, your 2nd number is {r} and Division = {q/r}\")"
   ]
  },
  {
   "cell_type": "code",
   "execution_count": null,
   "id": "9146b60f",
   "metadata": {},
   "outputs": [],
   "source": []
  }
 ],
 "metadata": {
  "kernelspec": {
   "display_name": "Python 3 (ipykernel)",
   "language": "python",
   "name": "python3"
  },
  "language_info": {
   "codemirror_mode": {
    "name": "ipython",
    "version": 3
   },
   "file_extension": ".py",
   "mimetype": "text/x-python",
   "name": "python",
   "nbconvert_exporter": "python",
   "pygments_lexer": "ipython3",
   "version": "3.11.5"
  }
 },
 "nbformat": 4,
 "nbformat_minor": 5
}
