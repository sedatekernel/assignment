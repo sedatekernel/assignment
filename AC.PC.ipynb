{
 "cells": [
  {
   "cell_type": "code",
   "execution_count": 1,
   "id": "a553006b",
   "metadata": {},
   "outputs": [],
   "source": [
    "a = 10\n",
    "b = 10"
   ]
  },
  {
   "cell_type": "code",
   "execution_count": 5,
   "id": "ddd9a571",
   "metadata": {},
   "outputs": [
    {
     "name": "stdout",
     "output_type": "stream",
     "text": [
      "20\n"
     ]
    }
   ],
   "source": [
    "print(a+b)"
   ]
  },
  {
   "cell_type": "code",
   "execution_count": 10,
   "id": "97d788f6",
   "metadata": {},
   "outputs": [
    {
     "name": "stdout",
     "output_type": "stream",
     "text": [
      "please enter a number: 10\n",
      "please enter another number: 20\n",
      "please enter a another number: 30\n"
     ]
    }
   ],
   "source": [
    "c = int(input(\"please enter a number: \"))\n",
    "d = int(input(\"please enter another number: \"))\n",
    "e = int(input(\"please enter a another number: \"))"
   ]
  },
  {
   "cell_type": "code",
   "execution_count": 11,
   "id": "8d926b2c",
   "metadata": {},
   "outputs": [
    {
     "name": "stdout",
     "output_type": "stream",
     "text": [
      "60\n"
     ]
    }
   ],
   "source": [
    "f = print(c+d+e)"
   ]
  },
  {
   "cell_type": "code",
   "execution_count": 24,
   "id": "2a91d688",
   "metadata": {},
   "outputs": [
    {
     "name": "stdout",
     "output_type": "stream",
     "text": [
      "please enter a number:15\n",
      "please enter another number:25.10\n",
      "please enter a another number:35\n",
      "75.1\n"
     ]
    }
   ],
   "source": [
    "g = float(input(\"please enter a number:\"))\n",
    "h = float(input(\"please enter another number:\"))\n",
    "j = float(input(\"please enter a another number:\"))\n",
    "k = print(g+h+j)"
   ]
  },
  {
   "cell_type": "code",
   "execution_count": 25,
   "id": "b9b78f58",
   "metadata": {},
   "outputs": [
    {
     "name": "stdout",
     "output_type": "stream",
     "text": [
      "please enter a number:10\n",
      "please enter another number:5.5\n"
     ]
    }
   ],
   "source": [
    "l = float(input(\"please enter a number:\"))\n",
    "m = float(input(\"please enter another number:\"))"
   ]
  },
  {
   "cell_type": "code",
   "execution_count": 26,
   "id": "733349b2",
   "metadata": {},
   "outputs": [
    {
     "name": "stdout",
     "output_type": "stream",
     "text": [
      "4.5\n"
     ]
    }
   ],
   "source": [
    "n = print(l-m)"
   ]
  },
  {
   "cell_type": "code",
   "execution_count": 27,
   "id": "26017b2b",
   "metadata": {},
   "outputs": [
    {
     "name": "stdout",
     "output_type": "stream",
     "text": [
      "please enter number: 10\n",
      "please enter another number: 10\n"
     ]
    }
   ],
   "source": [
    "o =  int(input(\"please enter number: \"))\n",
    "p =  int(input(\"please enter another number: \"))"
   ]
  },
  {
   "cell_type": "code",
   "execution_count": 28,
   "id": "e73fd8e5",
   "metadata": {},
   "outputs": [
    {
     "name": "stdout",
     "output_type": "stream",
     "text": [
      "100\n"
     ]
    }
   ],
   "source": [
    "q = print(o*p)"
   ]
  },
  {
   "cell_type": "code",
   "execution_count": 30,
   "id": "4d6962f4",
   "metadata": {},
   "outputs": [
    {
     "name": "stdout",
     "output_type": "stream",
     "text": [
      "please enter number: 50\n",
      "please enter another number: 5\n"
     ]
    }
   ],
   "source": [
    "r = int(input(\"please enter number: \"))\n",
    "s = int(input(\"please enter another number: \"))"
   ]
  },
  {
   "cell_type": "code",
   "execution_count": 31,
   "id": "bf57a384",
   "metadata": {},
   "outputs": [
    {
     "name": "stdout",
     "output_type": "stream",
     "text": [
      "10.0\n"
     ]
    }
   ],
   "source": [
    "t = print(r/s)"
   ]
  },
  {
   "cell_type": "code",
   "execution_count": null,
   "id": "35330a3e",
   "metadata": {},
   "outputs": [],
   "source": []
  }
 ],
 "metadata": {
  "kernelspec": {
   "display_name": "Python 3 (ipykernel)",
   "language": "python",
   "name": "python3"
  },
  "language_info": {
   "codemirror_mode": {
    "name": "ipython",
    "version": 3
   },
   "file_extension": ".py",
   "mimetype": "text/x-python",
   "name": "python",
   "nbconvert_exporter": "python",
   "pygments_lexer": "ipython3",
   "version": "3.11.5"
  }
 },
 "nbformat": 4,
 "nbformat_minor": 5
}
